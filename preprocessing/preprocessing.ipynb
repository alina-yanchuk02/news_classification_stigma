{
 "metadata": {
  "language_info": {
   "codemirror_mode": {
    "name": "ipython",
    "version": 3
   },
   "file_extension": ".py",
   "mimetype": "text/x-python",
   "name": "python",
   "nbconvert_exporter": "python",
   "pygments_lexer": "ipython3",
   "version": "3.8.12-final"
  },
  "orig_nbformat": 2,
  "kernelspec": {
   "name": "python3",
   "display_name": "Python 3 (ipykernel)",
   "language": "python"
  }
 },
 "nbformat": 4,
 "nbformat_minor": 2,
 "cells": [
  {
   "source": [
    "# 1. Preprocessing "
   ],
   "cell_type": "markdown",
   "metadata": {}
  },
  {
   "source": [
    "## 1.1 Requirements"
   ],
   "cell_type": "markdown",
   "metadata": {}
  },
  {
   "cell_type": "code",
   "execution_count": 1,
   "metadata": {},
   "outputs": [],
   "source": [
    "pip3 install pandas\n",
    "pip install --upgrade nltk\n",
    "pip install stanza"
   ]
  },
  {
   "source": [
    "## 1.2 Imports"
   ],
   "cell_type": "markdown",
   "metadata": {}
  },
  {
   "cell_type": "code",
   "execution_count": 1,
   "metadata": {},
   "outputs": [
    {
     "output_type": "stream",
     "name": "stderr",
     "text": [
      "[nltk_data] Downloading package stopwords to /home/alina/nltk_data...\n[nltk_data]   Package stopwords is already up-to-date!\n"
     ]
    },
    {
     "output_type": "execute_result",
     "data": {
      "text/plain": [
       "True"
      ]
     },
     "metadata": {},
     "execution_count": 1
    }
   ],
   "source": [
    "import pandas as pd\n",
    "import re\n",
    "import string\n",
    "import nltk\n",
    "nltk.download('stopwords')\n",
    "#import stanza\n",
    "#stanza.download('pt')"
   ]
  },
  {
   "cell_type": "code",
   "execution_count": 2,
   "metadata": {},
   "outputs": [],
   "source": [
    "# Table only with news 'headline' and 'content'\n",
    "\n",
    "pd.set_option('max_colwidth',150)\n",
    "data = pd.read_csv ('data.csv')\n",
    "data_text = data.loc[:, ['headline', 'content']]"
   ]
  },
  {
   "cell_type": "code",
   "execution_count": 3,
   "metadata": {},
   "outputs": [
    {
     "output_type": "stream",
     "name": "stdout",
     "text": [
      "headline 11\ncontent 0\n"
     ]
    }
   ],
   "source": [
    "# Search for null values\n",
    "\n",
    "for col in data_text.columns:\n",
    "    print(col, data_text[col].isnull().sum())"
   ]
  },
  {
   "cell_type": "code",
   "execution_count": 4,
   "metadata": {},
   "outputs": [
    {
     "output_type": "execute_result",
     "data": {
      "text/plain": [
       "                                                                                                                                                   content\n",
       "0    Prisão perpétua para homem que tentou assassinar senadora No dia 8 de Janeiro de 2011 Jared Loughner tentou matar, sem sucesso, a então senadora G...\n",
       "1    John Nash, matemático de Uma Mente Brilhante, morre em acidente John Nash, o matemático e Nobel da Economia que foi retratado por Russell Crowe no...\n",
       "2    O mito da reeleição mínima garantida Cavaco sairá desta campanha pior do que entrou. Os casos das acções na SLN ou da casa de férias no Algarve nã...\n",
       "3    Morreu Rita Levi-Montalcini, a grande dama da ciência italiana A cientista e senadora italiana Rita Levi-Montalcini, Prémio Nobel da Medicina de 1...\n",
       "4    Por trás da porta amarela, há um homem com problemas psicológicos Pub  Ninguém sabe o que ele está a fazer. Ninguém sabe em que é que pensa, o que...\n",
       "..                                                                                                                                                     ...\n",
       "654  Ao terceiro dia Hendrix ressuscitou  Festival de Curtas Metragens recordou último concerto do guitarrista em Inglaterra Festival de Curtas Metrage...\n",
       "655  Capital acordou tarde e tensa  votação Jornada eleitoral decorreu com civismo e ansiedade Escaramuças fazem um morto e um ferido Jornada eleitoral...\n",
       "656   - out3022  Arguidos começam hoje a discutir as provas  casa pia Rui Teixeira abandona processo de pedofilia, que será sorteado a outro magistrado...\n",
       "657  \"Nunca me deixei ser empurrado\"  Alexandra Marques  Ciente de que só passará à segunda volta \"se uma grande parte do PS\" votar nele, diz que Sócra...\n",
       "658  Esquizofrénicos não têm apoios      O presidente do IV Colóquio Internacional de Esquizofrenia do Porto, João Marques Teixeira, defendeu, ontem, a...\n",
       "\n",
       "[659 rows x 1 columns]"
      ],
      "text/html": "<div>\n<style scoped>\n    .dataframe tbody tr th:only-of-type {\n        vertical-align: middle;\n    }\n\n    .dataframe tbody tr th {\n        vertical-align: top;\n    }\n\n    .dataframe thead th {\n        text-align: right;\n    }\n</style>\n<table border=\"1\" class=\"dataframe\">\n  <thead>\n    <tr style=\"text-align: right;\">\n      <th></th>\n      <th>content</th>\n    </tr>\n  </thead>\n  <tbody>\n    <tr>\n      <th>0</th>\n      <td>Prisão perpétua para homem que tentou assassinar senadora No dia 8 de Janeiro de 2011 Jared Loughner tentou matar, sem sucesso, a então senadora G...</td>\n    </tr>\n    <tr>\n      <th>1</th>\n      <td>John Nash, matemático de Uma Mente Brilhante, morre em acidente John Nash, o matemático e Nobel da Economia que foi retratado por Russell Crowe no...</td>\n    </tr>\n    <tr>\n      <th>2</th>\n      <td>O mito da reeleição mínima garantida Cavaco sairá desta campanha pior do que entrou. Os casos das acções na SLN ou da casa de férias no Algarve nã...</td>\n    </tr>\n    <tr>\n      <th>3</th>\n      <td>Morreu Rita Levi-Montalcini, a grande dama da ciência italiana A cientista e senadora italiana Rita Levi-Montalcini, Prémio Nobel da Medicina de 1...</td>\n    </tr>\n    <tr>\n      <th>4</th>\n      <td>Por trás da porta amarela, há um homem com problemas psicológicos Pub  Ninguém sabe o que ele está a fazer. Ninguém sabe em que é que pensa, o que...</td>\n    </tr>\n    <tr>\n      <th>...</th>\n      <td>...</td>\n    </tr>\n    <tr>\n      <th>654</th>\n      <td>Ao terceiro dia Hendrix ressuscitou  Festival de Curtas Metragens recordou último concerto do guitarrista em Inglaterra Festival de Curtas Metrage...</td>\n    </tr>\n    <tr>\n      <th>655</th>\n      <td>Capital acordou tarde e tensa  votação Jornada eleitoral decorreu com civismo e ansiedade Escaramuças fazem um morto e um ferido Jornada eleitoral...</td>\n    </tr>\n    <tr>\n      <th>656</th>\n      <td>- out3022  Arguidos começam hoje a discutir as provas  casa pia Rui Teixeira abandona processo de pedofilia, que será sorteado a outro magistrado...</td>\n    </tr>\n    <tr>\n      <th>657</th>\n      <td>\"Nunca me deixei ser empurrado\"  Alexandra Marques  Ciente de que só passará à segunda volta \"se uma grande parte do PS\" votar nele, diz que Sócra...</td>\n    </tr>\n    <tr>\n      <th>658</th>\n      <td>Esquizofrénicos não têm apoios      O presidente do IV Colóquio Internacional de Esquizofrenia do Porto, João Marques Teixeira, defendeu, ontem, a...</td>\n    </tr>\n  </tbody>\n</table>\n<p>659 rows × 1 columns</p>\n</div>"
     },
     "metadata": {},
     "execution_count": 4
    }
   ],
   "source": [
    "# Join 'headline' and 'content'\n",
    "\n",
    "for index, row in data_text.iterrows():\n",
    "    if isinstance(row['headline'], float): pass\n",
    "    else: \n",
    "        if row['headline'] not in row['content']: row['content'] = row['headline'] + ' ' + row['content']\n",
    "data_text.drop('headline', axis = 1, inplace = True)\n",
    "data_text"
   ]
  },
  {
   "cell_type": "code",
   "execution_count": 5,
   "metadata": {},
   "outputs": [
    {
     "output_type": "execute_result",
     "data": {
      "text/plain": [
       "                                                                                                                                                   content\n",
       "0    prisão perpétua homem tentou assassinar senadora dia jared loughner tentou matar sucesso então senadora gabrielle giffords eleita partido democrat...\n",
       "1    john nash matemático mente brilhante morre acidente john nash matemático nobel economia retratado russell crowe filme mente brilhante morreu acide...\n",
       "2    mito reeleição mínima garantida cavaco sairá desta campanha pior entrou casos acções sln casa férias algarve revelaram qualquer ilegalidade pudess...\n",
       "3    morreu rita levintalcini grande dama ciência italiana cientista senadora italiana rita levintalcini prémio nobel medicina morreu neste anos casa r...\n",
       "4    trás porta amarela homem problemas psicológicos ninguém sabe fazer ninguém sabe pensa come sobrevive dois anos desde mulher pânico levou dois filh...\n",
       "..                                                                                                                                                     ...\n",
       "654  terceiro dia hendrix ressuscitou festival curtas metragens recordou último concerto guitarrista inglaterra festival curtas metragens recordou últi...\n",
       "655  capital acordou tarde tensa votação jornada eleitoral decorreu civismo ansiedade escaramuças fazem morto ferido jornada eleitoral decorreu civismo...\n",
       "656  arguidos começam discutir provas casa pia rui teixeira abandona processo pedofilia sorteado outro magistradocruz abrantes tentam descredibilizar a...\n",
       "657  nunca deixei ser empurrado alexandra marques ciente passará segunda volta grande parte ps votar nele diz sócrates sossego belém outros candidatos ...\n",
       "658  esquizofrénicos têm apoios presidente iv colóquio internacional esquizofrenia porto joão marques teixeira defendeu criação rede apoio sócioclínico...\n",
       "\n",
       "[659 rows x 1 columns]"
      ],
      "text/html": "<div>\n<style scoped>\n    .dataframe tbody tr th:only-of-type {\n        vertical-align: middle;\n    }\n\n    .dataframe tbody tr th {\n        vertical-align: top;\n    }\n\n    .dataframe thead th {\n        text-align: right;\n    }\n</style>\n<table border=\"1\" class=\"dataframe\">\n  <thead>\n    <tr style=\"text-align: right;\">\n      <th></th>\n      <th>content</th>\n    </tr>\n  </thead>\n  <tbody>\n    <tr>\n      <th>0</th>\n      <td>prisão perpétua homem tentou assassinar senadora dia jared loughner tentou matar sucesso então senadora gabrielle giffords eleita partido democrat...</td>\n    </tr>\n    <tr>\n      <th>1</th>\n      <td>john nash matemático mente brilhante morre acidente john nash matemático nobel economia retratado russell crowe filme mente brilhante morreu acide...</td>\n    </tr>\n    <tr>\n      <th>2</th>\n      <td>mito reeleição mínima garantida cavaco sairá desta campanha pior entrou casos acções sln casa férias algarve revelaram qualquer ilegalidade pudess...</td>\n    </tr>\n    <tr>\n      <th>3</th>\n      <td>morreu rita levintalcini grande dama ciência italiana cientista senadora italiana rita levintalcini prémio nobel medicina morreu neste anos casa r...</td>\n    </tr>\n    <tr>\n      <th>4</th>\n      <td>trás porta amarela homem problemas psicológicos ninguém sabe fazer ninguém sabe pensa come sobrevive dois anos desde mulher pânico levou dois filh...</td>\n    </tr>\n    <tr>\n      <th>...</th>\n      <td>...</td>\n    </tr>\n    <tr>\n      <th>654</th>\n      <td>terceiro dia hendrix ressuscitou festival curtas metragens recordou último concerto guitarrista inglaterra festival curtas metragens recordou últi...</td>\n    </tr>\n    <tr>\n      <th>655</th>\n      <td>capital acordou tarde tensa votação jornada eleitoral decorreu civismo ansiedade escaramuças fazem morto ferido jornada eleitoral decorreu civismo...</td>\n    </tr>\n    <tr>\n      <th>656</th>\n      <td>arguidos começam discutir provas casa pia rui teixeira abandona processo pedofilia sorteado outro magistradocruz abrantes tentam descredibilizar a...</td>\n    </tr>\n    <tr>\n      <th>657</th>\n      <td>nunca deixei ser empurrado alexandra marques ciente passará segunda volta grande parte ps votar nele diz sócrates sossego belém outros candidatos ...</td>\n    </tr>\n    <tr>\n      <th>658</th>\n      <td>esquizofrénicos têm apoios presidente iv colóquio internacional esquizofrenia porto joão marques teixeira defendeu criação rede apoio sócioclínico...</td>\n    </tr>\n  </tbody>\n</table>\n<p>659 rows × 1 columns</p>\n</div>"
     },
     "metadata": {},
     "execution_count": 5
    }
   ],
   "source": [
    "# Cleaning\n",
    "\n",
    "irrelevant = [\"pub\", \"pág\", \"reportagem\", \"clique\", \"subscrever\", \"partilhar\", \"dn\", \"publico.pt\", \"rtp\", \"cartaz\", \"tv\", \"hoje\", \"amanhã\", \"ontem\", \"segundafeira\", \"terçafeira\", \"quartafeira\", \"quintafeira\", \"sextafeira\", \"sábado\", \"domingo\", \"janeiro\", \"fevereiro\", \"março\", \"abril\", \"maio\", \"junho\", \"julho\", \"agosto\", \"outubro\", \"novembro\", \"dezembro\"] # list with irrelevant words/expressions do the news content\n",
    "\n",
    "stopwords = nltk.corpus.stopwords.words('portuguese') # pt stopwords\n",
    "\n",
    "#nlp = stanza.Pipeline('pt') # pt stanza\n",
    "\n",
    "def clean_text(text):\n",
    "\n",
    "    text = text.lower() # lowercase\n",
    "    text = re.sub(r'http\\S+', '', text) # URLs removal\n",
    "    text = re.sub('\\[.*?\\]', '', text) # remove text in square brackets\n",
    "    text = re.sub(r\"\\([^()]*\\)\", '', text) # remove text within parentheses\n",
    "    text = re.sub(r'-(me|te|se|nos|vos|o|os|a|as|lo|los|la|las|lhe|lhes|lha|lhas|lho|lhos|no|na|nas|mo|ma|mos|mas|to|ta|tos|tas)', '', text) # remove pronouns at the end of the wo\n",
    "    text = re.sub('[%s]' % re.escape(string.punctuation), '', text) # remove punctuation\n",
    "    text = re.sub('[‘’“”«|»…]', '', text)\n",
    "    text = re.sub('\\w*\\d\\w*', '', text) # remove words containing numbers\n",
    "    text = ' '.join([word for word in text.split() if word not in stopwords]) # remove stopwords\n",
    "    text = re.sub(r'Pág.*por pág$', '', text) # remove irrelevant text\n",
    "    text = ' '.join([word for word in text.split() if word not in irrelevant]) \n",
    "    #text = nlp(text)\n",
    "    #text = ' '.join([word.lemma for sent in text.sentences for word in sent.words]) \n",
    "\n",
    "    return text\n",
    "\n",
    "data_clean = pd.DataFrame(data_text.content.apply(lambda x: clean_text(x)))\n",
    "data_clean"
   ]
  },
  {
   "cell_type": "code",
   "execution_count": 6,
   "metadata": {},
   "outputs": [
    {
     "output_type": "execute_result",
     "data": {
      "text/plain": [
       "                                                                                                                                                   content\n",
       "0    [prisão, perpétua, homem, tentou, assassinar, senadora, dia, jared, loughner, tentou, matar, sucesso, então, senadora, gabrielle, giffords, eleita...\n",
       "1    [john, nash, matemático, mente, brilhante, morre, acidente, john, nash, matemático, nobel, economia, retratado, russell, crowe, filme, mente, bril...\n",
       "2    [mito, reeleição, mínima, garantida, cavaco, sairá, desta, campanha, pior, entrou, casos, acções, sln, casa, férias, algarve, revelaram, qualquer,...\n",
       "3    [morreu, rita, levintalcini, grande, dama, ciência, italiana, cientista, senadora, italiana, rita, levintalcini, prémio, nobel, medicina, morreu, ...\n",
       "4    [trás, porta, amarela, homem, problemas, psicológicos, ninguém, sabe, fazer, ninguém, sabe, pensa, come, sobrevive, dois, anos, desde, mulher, pân...\n",
       "..                                                                                                                                                     ...\n",
       "654  [terceiro, dia, hendrix, ressuscitou, festival, curtas, metragens, recordou, último, concerto, guitarrista, inglaterra, festival, curtas, metragen...\n",
       "655  [capital, acordou, tarde, tensa, votação, jornada, eleitoral, decorreu, civismo, ansiedade, escaramuças, fazem, morto, ferido, jornada, eleitoral,...\n",
       "656  [arguidos, começam, discutir, provas, casa, pia, rui, teixeira, abandona, processo, pedofilia, sorteado, outro, magistradocruz, abrantes, tentam, ...\n",
       "657  [nunca, deixei, ser, empurrado, alexandra, marques, ciente, passará, segunda, volta, grande, parte, ps, votar, nele, diz, sócrates, sossego, belém...\n",
       "658  [esquizofrénicos, têm, apoios, presidente, iv, colóquio, internacional, esquizofrenia, porto, joão, marques, teixeira, defendeu, criação, rede, ap...\n",
       "\n",
       "[659 rows x 1 columns]"
      ],
      "text/html": "<div>\n<style scoped>\n    .dataframe tbody tr th:only-of-type {\n        vertical-align: middle;\n    }\n\n    .dataframe tbody tr th {\n        vertical-align: top;\n    }\n\n    .dataframe thead th {\n        text-align: right;\n    }\n</style>\n<table border=\"1\" class=\"dataframe\">\n  <thead>\n    <tr style=\"text-align: right;\">\n      <th></th>\n      <th>content</th>\n    </tr>\n  </thead>\n  <tbody>\n    <tr>\n      <th>0</th>\n      <td>[prisão, perpétua, homem, tentou, assassinar, senadora, dia, jared, loughner, tentou, matar, sucesso, então, senadora, gabrielle, giffords, eleita...</td>\n    </tr>\n    <tr>\n      <th>1</th>\n      <td>[john, nash, matemático, mente, brilhante, morre, acidente, john, nash, matemático, nobel, economia, retratado, russell, crowe, filme, mente, bril...</td>\n    </tr>\n    <tr>\n      <th>2</th>\n      <td>[mito, reeleição, mínima, garantida, cavaco, sairá, desta, campanha, pior, entrou, casos, acções, sln, casa, férias, algarve, revelaram, qualquer,...</td>\n    </tr>\n    <tr>\n      <th>3</th>\n      <td>[morreu, rita, levintalcini, grande, dama, ciência, italiana, cientista, senadora, italiana, rita, levintalcini, prémio, nobel, medicina, morreu, ...</td>\n    </tr>\n    <tr>\n      <th>4</th>\n      <td>[trás, porta, amarela, homem, problemas, psicológicos, ninguém, sabe, fazer, ninguém, sabe, pensa, come, sobrevive, dois, anos, desde, mulher, pân...</td>\n    </tr>\n    <tr>\n      <th>...</th>\n      <td>...</td>\n    </tr>\n    <tr>\n      <th>654</th>\n      <td>[terceiro, dia, hendrix, ressuscitou, festival, curtas, metragens, recordou, último, concerto, guitarrista, inglaterra, festival, curtas, metragen...</td>\n    </tr>\n    <tr>\n      <th>655</th>\n      <td>[capital, acordou, tarde, tensa, votação, jornada, eleitoral, decorreu, civismo, ansiedade, escaramuças, fazem, morto, ferido, jornada, eleitoral,...</td>\n    </tr>\n    <tr>\n      <th>656</th>\n      <td>[arguidos, começam, discutir, provas, casa, pia, rui, teixeira, abandona, processo, pedofilia, sorteado, outro, magistradocruz, abrantes, tentam, ...</td>\n    </tr>\n    <tr>\n      <th>657</th>\n      <td>[nunca, deixei, ser, empurrado, alexandra, marques, ciente, passará, segunda, volta, grande, parte, ps, votar, nele, diz, sócrates, sossego, belém...</td>\n    </tr>\n    <tr>\n      <th>658</th>\n      <td>[esquizofrénicos, têm, apoios, presidente, iv, colóquio, internacional, esquizofrenia, porto, joão, marques, teixeira, defendeu, criação, rede, ap...</td>\n    </tr>\n  </tbody>\n</table>\n<p>659 rows × 1 columns</p>\n</div>"
     },
     "metadata": {},
     "execution_count": 6
    }
   ],
   "source": [
    "# Word tokenization\n",
    "\n",
    "def tokenize(text):\n",
    "\n",
    "    text = text.split()\n",
    "\n",
    "    return text\n",
    "\n",
    "data_tokenized = pd.DataFrame(data_clean.content.apply(lambda x: tokenize(x)))\n",
    "data_tokenized"
   ]
  },
  {
   "cell_type": "code",
   "execution_count": 7,
   "metadata": {},
   "outputs": [],
   "source": [
    "# Write to csv\n",
    "\n",
    "data_tokenized.to_csv(\"data_cleaned.csv\")"
   ]
  }
 ]
}
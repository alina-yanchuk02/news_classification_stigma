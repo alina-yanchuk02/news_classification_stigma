{
 "metadata": {
  "language_info": {
   "codemirror_mode": {
    "name": "ipython",
    "version": 3
   },
   "file_extension": ".py",
   "mimetype": "text/x-python",
   "name": "python",
   "nbconvert_exporter": "python",
   "pygments_lexer": "ipython3",
   "version": "3.8.12-final"
  },
  "orig_nbformat": 2,
  "kernelspec": {
   "name": "python3",
   "display_name": "Python 3 (ipykernel)",
   "language": "python"
  }
 },
 "nbformat": 4,
 "nbformat_minor": 2,
 "cells": [
  {
   "source": [
    "# 1. Preprocessing "
   ],
   "cell_type": "markdown",
   "metadata": {}
  },
  {
   "source": [
    "## 1.1 Requirements"
   ],
   "cell_type": "markdown",
   "metadata": {}
  },
  {
   "cell_type": "code",
   "execution_count": 1,
   "metadata": {},
   "outputs": [],
   "source": [
    "pip install pandas"
   ]
  },
  {
   "cell_type": "code",
   "execution_count": 2,
   "metadata": {},
   "outputs": [],
   "source": [
    "pip install --upgrade nltk"
   ]
  },
  {
   "source": [
    "## 1.2 Imports"
   ],
   "cell_type": "markdown",
   "metadata": {}
  },
  {
   "cell_type": "code",
   "execution_count": 3,
   "metadata": {},
   "outputs": [
    {
     "output_type": "stream",
     "name": "stderr",
     "text": [
      "[nltk_data] Downloading package stopwords to /home/alina/nltk_data...\n[nltk_data]   Package stopwords is already up-to-date!\n"
     ]
    }
   ],
   "source": [
    "import pandas as pd\n",
    "import re\n",
    "import string\n",
    "import nltk\n",
    "nltk.download('stopwords')\n",
    "#import stanza\n",
    "#stanza.download('pt')\n",
    "from sklearn.feature_extraction.text import CountVectorizer\n",
    "from sklearn.feature_extraction.text import TfidfVectorizer\n",
    "#from gensim.models import KeyedVectors\n",
    "#import torch"
   ]
  },
  {
   "source": [
    "## 1.3 Get data"
   ],
   "cell_type": "markdown",
   "metadata": {}
  },
  {
   "cell_type": "code",
   "execution_count": 4,
   "metadata": {},
   "outputs": [],
   "source": [
    "# Table only with news 'headline' and 'content'\n",
    "\n",
    "pd.set_option('max_colwidth',150)\n",
    "data = pd.read_csv ('data_sample.csv')\n",
    "data_text = data.loc[:, ['headline', 'content']]"
   ]
  },
  {
   "cell_type": "code",
   "execution_count": 5,
   "metadata": {},
   "outputs": [
    {
     "output_type": "stream",
     "name": "stdout",
     "text": [
      "headline 0\ncontent 0\n"
     ]
    }
   ],
   "source": [
    "# Search for null values\n",
    "\n",
    "for col in data_text.columns:\n",
    "    print(col, data_text[col].isnull().sum())"
   ]
  },
  {
   "cell_type": "code",
   "execution_count": 6,
   "metadata": {},
   "outputs": [
    {
     "output_type": "execute_result",
     "data": {
      "text/plain": [
       "                                                                                                                                                 content\n",
       "0  Prisão perpétua para homem que tentou assassinar senadora No dia 8 de Janeiro de 2011 Jared Loughner tentou matar, sem sucesso, a então senadora G...\n",
       "1  John Nash, matemático de Uma Mente Brilhante, morre em acidente John Nash, o matemático e Nobel da Economia que foi retratado por Russell Crowe no...\n",
       "2  O mito da reeleição mínima garantida Cavaco sairá desta campanha pior do que entrou. Os casos das acções na SLN ou da casa de férias no Algarve nã...\n",
       "3  Morreu Rita Levi-Montalcini, a grande dama da ciência italiana A cientista e senadora italiana Rita Levi-Montalcini, Prémio Nobel da Medicina de 1...\n",
       "4  Por trás da porta amarela, há um homem com problemas psicológicos Pub  Ninguém sabe o que ele está a fazer. Ninguém sabe em que é que pensa, o que...\n",
       "5  Gregorio Duvivier de todas as maneiras e sem estilo Outubro será o mês de Gregorio Duvivier em Portugal.  O escritor, humorista e actor-sócio fund...\n",
       "6  Ângelo de Sousa: Viver, esperar, talvez pintar Ângelo é nome de curioso. Um que se farta de esperar. Um que procura saber. Conversa no Porto, em c...\n",
       "7  \"Sintomas de esquizofrenia\" Fernando Rosas zurze em Ferreira do Amaral  \"Sintomas de Esquizofrenia\"    Quinta-feira, 11 de Janeiro de 2001  A port...\n",
       "8  Esquizofrenia e depressão Esquizofrenia e Depressão  Domingo, 31 de Dezembro de 2000  Ao longo dos seus 117 anos de existência, o Hospital do Cond..."
      ],
      "text/html": "<div>\n<style scoped>\n    .dataframe tbody tr th:only-of-type {\n        vertical-align: middle;\n    }\n\n    .dataframe tbody tr th {\n        vertical-align: top;\n    }\n\n    .dataframe thead th {\n        text-align: right;\n    }\n</style>\n<table border=\"1\" class=\"dataframe\">\n  <thead>\n    <tr style=\"text-align: right;\">\n      <th></th>\n      <th>content</th>\n    </tr>\n  </thead>\n  <tbody>\n    <tr>\n      <th>0</th>\n      <td>Prisão perpétua para homem que tentou assassinar senadora No dia 8 de Janeiro de 2011 Jared Loughner tentou matar, sem sucesso, a então senadora G...</td>\n    </tr>\n    <tr>\n      <th>1</th>\n      <td>John Nash, matemático de Uma Mente Brilhante, morre em acidente John Nash, o matemático e Nobel da Economia que foi retratado por Russell Crowe no...</td>\n    </tr>\n    <tr>\n      <th>2</th>\n      <td>O mito da reeleição mínima garantida Cavaco sairá desta campanha pior do que entrou. Os casos das acções na SLN ou da casa de férias no Algarve nã...</td>\n    </tr>\n    <tr>\n      <th>3</th>\n      <td>Morreu Rita Levi-Montalcini, a grande dama da ciência italiana A cientista e senadora italiana Rita Levi-Montalcini, Prémio Nobel da Medicina de 1...</td>\n    </tr>\n    <tr>\n      <th>4</th>\n      <td>Por trás da porta amarela, há um homem com problemas psicológicos Pub  Ninguém sabe o que ele está a fazer. Ninguém sabe em que é que pensa, o que...</td>\n    </tr>\n    <tr>\n      <th>5</th>\n      <td>Gregorio Duvivier de todas as maneiras e sem estilo Outubro será o mês de Gregorio Duvivier em Portugal.  O escritor, humorista e actor-sócio fund...</td>\n    </tr>\n    <tr>\n      <th>6</th>\n      <td>Ângelo de Sousa: Viver, esperar, talvez pintar Ângelo é nome de curioso. Um que se farta de esperar. Um que procura saber. Conversa no Porto, em c...</td>\n    </tr>\n    <tr>\n      <th>7</th>\n      <td>\"Sintomas de esquizofrenia\" Fernando Rosas zurze em Ferreira do Amaral  \"Sintomas de Esquizofrenia\"    Quinta-feira, 11 de Janeiro de 2001  A port...</td>\n    </tr>\n    <tr>\n      <th>8</th>\n      <td>Esquizofrenia e depressão Esquizofrenia e Depressão  Domingo, 31 de Dezembro de 2000  Ao longo dos seus 117 anos de existência, o Hospital do Cond...</td>\n    </tr>\n  </tbody>\n</table>\n</div>"
     },
     "metadata": {},
     "execution_count": 6
    }
   ],
   "source": [
    "# Join 'headline' and 'content'\n",
    "\n",
    "for index, row in data_text.iterrows():\n",
    "    if isinstance(row['headline'], float): pass\n",
    "    else: \n",
    "        if row['headline'] not in row['content']: row['content'] = row['headline'] + ' ' + row['content']\n",
    "data_text.drop('headline', axis = 1, inplace = True)\n",
    "data_text"
   ]
  },
  {
   "source": [
    "## 1.4 Process data"
   ],
   "cell_type": "markdown",
   "metadata": {}
  },
  {
   "cell_type": "code",
   "execution_count": 7,
   "metadata": {},
   "outputs": [
    {
     "output_type": "execute_result",
     "data": {
      "text/plain": [
       "                                                                                                                                                 content\n",
       "0  prisão perpétua homem tentou assassinar senadora dia jared loughner tentou matar sucesso então senadora gabrielle giffords eleita partido democrat...\n",
       "1  john nash matemático mente brilhante morre acidente john nash matemático nobel economia retratado russell crowe filme mente brilhante morreu acide...\n",
       "2  mito reeleição mínima garantida cavaco sairá desta campanha pior entrou casos acções sln casa férias algarve revelaram qualquer ilegalidade pudess...\n",
       "3  morreu rita levintalcini grande dama ciência italiana cientista senadora italiana rita levintalcini prémio nobel medicina morreu neste anos casa r...\n",
       "4  trás porta amarela homem problemas psicológicos ninguém sabe fazer ninguém sabe pensa come sobrevive dois anos desde mulher pânico levou dois filh...\n",
       "5  gregorio duvivier todas maneiras estilo mês gregorio duvivier portugal escritor humorista actorsócio fundador colectivo porta fundos flavour the m...\n",
       "6  ângelo sousa viver esperar talvez pintar ângelo nome curioso farta esperar procura saber conversa porto casa tudo parado atelier felicidade triste...\n",
       "7  sintomas esquizofrenia fernando rosas zurze ferreira amaral sintomas esquizofrenia porta serviço estrangeiros fronteiras lisboa cenário escolhido ...\n",
       "8  esquizofrenia depressão esquizofrenia depressão longo anos existência hospital conde ferreira palco mudanças institucionais acontecerá igualmente ..."
      ],
      "text/html": "<div>\n<style scoped>\n    .dataframe tbody tr th:only-of-type {\n        vertical-align: middle;\n    }\n\n    .dataframe tbody tr th {\n        vertical-align: top;\n    }\n\n    .dataframe thead th {\n        text-align: right;\n    }\n</style>\n<table border=\"1\" class=\"dataframe\">\n  <thead>\n    <tr style=\"text-align: right;\">\n      <th></th>\n      <th>content</th>\n    </tr>\n  </thead>\n  <tbody>\n    <tr>\n      <th>0</th>\n      <td>prisão perpétua homem tentou assassinar senadora dia jared loughner tentou matar sucesso então senadora gabrielle giffords eleita partido democrat...</td>\n    </tr>\n    <tr>\n      <th>1</th>\n      <td>john nash matemático mente brilhante morre acidente john nash matemático nobel economia retratado russell crowe filme mente brilhante morreu acide...</td>\n    </tr>\n    <tr>\n      <th>2</th>\n      <td>mito reeleição mínima garantida cavaco sairá desta campanha pior entrou casos acções sln casa férias algarve revelaram qualquer ilegalidade pudess...</td>\n    </tr>\n    <tr>\n      <th>3</th>\n      <td>morreu rita levintalcini grande dama ciência italiana cientista senadora italiana rita levintalcini prémio nobel medicina morreu neste anos casa r...</td>\n    </tr>\n    <tr>\n      <th>4</th>\n      <td>trás porta amarela homem problemas psicológicos ninguém sabe fazer ninguém sabe pensa come sobrevive dois anos desde mulher pânico levou dois filh...</td>\n    </tr>\n    <tr>\n      <th>5</th>\n      <td>gregorio duvivier todas maneiras estilo mês gregorio duvivier portugal escritor humorista actorsócio fundador colectivo porta fundos flavour the m...</td>\n    </tr>\n    <tr>\n      <th>6</th>\n      <td>ângelo sousa viver esperar talvez pintar ângelo nome curioso farta esperar procura saber conversa porto casa tudo parado atelier felicidade triste...</td>\n    </tr>\n    <tr>\n      <th>7</th>\n      <td>sintomas esquizofrenia fernando rosas zurze ferreira amaral sintomas esquizofrenia porta serviço estrangeiros fronteiras lisboa cenário escolhido ...</td>\n    </tr>\n    <tr>\n      <th>8</th>\n      <td>esquizofrenia depressão esquizofrenia depressão longo anos existência hospital conde ferreira palco mudanças institucionais acontecerá igualmente ...</td>\n    </tr>\n  </tbody>\n</table>\n</div>"
     },
     "metadata": {},
     "execution_count": 7
    }
   ],
   "source": [
    "# Cleaning\n",
    "\n",
    "irrelevant = [\"pub\", \"pág\", \"reportagem\", \"clique\", \"subscrever\", \"partilhar\", \"dn\", \"publico.pt\", \"rtp\", \"cartaz\", \"tv\", \"hoje\", \"amanhã\", \"ontem\", \"segundafeira\", \"terçafeira\", \"quartafeira\", \"quintafeira\", \"sextafeira\", \"sábado\", \"domingo\", \"janeiro\", \"fevereiro\", \"março\", \"abril\", \"maio\", \"junho\", \"julho\", \"agosto\", \"outubro\", \"novembro\", \"dezembro\"] # list with irrelevant words/expressions do the news content\n",
    "\n",
    "stopwords = nltk.corpus.stopwords.words('portuguese') # pt stopwords\n",
    "\n",
    "sent_tokenizer = nltk.data.load('tokenizers/punkt/portuguese.pickle') # pt sentence tokenizer\n",
    "\n",
    "#nlp = stanza.Pipeline('pt') # pt stanza\n",
    "\n",
    "def clean_text(text):\n",
    "\n",
    "    text = text.lower() # lowercase\n",
    "    text = re.sub(r'http\\S+', '', text) # URLs removal\n",
    "    text = re.sub('\\[.*?\\]', '', text) # remove text in square brackets\n",
    "    text = re.sub(r\"\\([^()]*\\)\", '', text) # remove text within parentheses\n",
    "    text = re.sub(r'-(me|te|se|nos|vos|o|os|a|as|lo|los|la|las|lhe|lhes|lha|lhas|lho|lhos|no|na|nas|mo|ma|mos|mas|to|ta|tos|tas)', '', text) # remove pronouns at the end of the words\n",
    "    sentences = sent_tokenizer.tokenize(text)\n",
    "    text = ' '.join([sentence for sentence in sent_tokenizer.tokenize(text) if len(sentence) > 15]) \n",
    "    text = re.sub('[%s]' % re.escape(string.punctuation), '', text) # remove punctuation\n",
    "    text = re.sub('[‘’“”«|»…]', '', text)\n",
    "    text = re.sub('\\w*\\d\\w*', '', text) # remove words containing numbers\n",
    "    text = ' '.join([word for word in text.split() if word not in stopwords]) # remove stopwords\n",
    "    text = ' '.join([word for word in text.split() if len(word) > 2]) # remove words with length <= 2\n",
    "    text = re.sub(r'Pág.*por pág$', '', text) # remove irrelevant text\n",
    "    text = ' '.join([word for word in text.split() if word not in irrelevant]) \n",
    "    #text = nlp(text)\n",
    "    #text = ' '.join([word.lemma for sent in text.sentences for word in sent.words]) \n",
    "\n",
    "    return text\n",
    "\n",
    "data_clean = pd.DataFrame(data_text.content.apply(lambda x: clean_text(x)))\n",
    "data_clean"
   ]
  },
  {
   "cell_type": "code",
   "execution_count": 8,
   "metadata": {},
   "outputs": [
    {
     "output_type": "execute_result",
     "data": {
      "text/plain": [
       "                                                                                                                                                 content\n",
       "0  [prisão, perpétua, homem, tentou, assassinar, senadora, dia, jared, loughner, tentou, matar, sucesso, então, senadora, gabrielle, giffords, eleita...\n",
       "1  [john, nash, matemático, mente, brilhante, morre, acidente, john, nash, matemático, nobel, economia, retratado, russell, crowe, filme, mente, bril...\n",
       "2  [mito, reeleição, mínima, garantida, cavaco, sairá, desta, campanha, pior, entrou, casos, acções, sln, casa, férias, algarve, revelaram, qualquer,...\n",
       "3  [morreu, rita, levintalcini, grande, dama, ciência, italiana, cientista, senadora, italiana, rita, levintalcini, prémio, nobel, medicina, morreu, ...\n",
       "4  [trás, porta, amarela, homem, problemas, psicológicos, ninguém, sabe, fazer, ninguém, sabe, pensa, come, sobrevive, dois, anos, desde, mulher, pân...\n",
       "5  [gregorio, duvivier, todas, maneiras, estilo, mês, gregorio, duvivier, portugal, escritor, humorista, actorsócio, fundador, colectivo, porta, fund...\n",
       "6  [ângelo, sousa, viver, esperar, talvez, pintar, ângelo, nome, curioso, farta, esperar, procura, saber, conversa, porto, casa, tudo, parado, atelie...\n",
       "7  [sintomas, esquizofrenia, fernando, rosas, zurze, ferreira, amaral, sintomas, esquizofrenia, porta, serviço, estrangeiros, fronteiras, lisboa, cen...\n",
       "8  [esquizofrenia, depressão, esquizofrenia, depressão, longo, anos, existência, hospital, conde, ferreira, palco, mudanças, institucionais, acontece..."
      ],
      "text/html": "<div>\n<style scoped>\n    .dataframe tbody tr th:only-of-type {\n        vertical-align: middle;\n    }\n\n    .dataframe tbody tr th {\n        vertical-align: top;\n    }\n\n    .dataframe thead th {\n        text-align: right;\n    }\n</style>\n<table border=\"1\" class=\"dataframe\">\n  <thead>\n    <tr style=\"text-align: right;\">\n      <th></th>\n      <th>content</th>\n    </tr>\n  </thead>\n  <tbody>\n    <tr>\n      <th>0</th>\n      <td>[prisão, perpétua, homem, tentou, assassinar, senadora, dia, jared, loughner, tentou, matar, sucesso, então, senadora, gabrielle, giffords, eleita...</td>\n    </tr>\n    <tr>\n      <th>1</th>\n      <td>[john, nash, matemático, mente, brilhante, morre, acidente, john, nash, matemático, nobel, economia, retratado, russell, crowe, filme, mente, bril...</td>\n    </tr>\n    <tr>\n      <th>2</th>\n      <td>[mito, reeleição, mínima, garantida, cavaco, sairá, desta, campanha, pior, entrou, casos, acções, sln, casa, férias, algarve, revelaram, qualquer,...</td>\n    </tr>\n    <tr>\n      <th>3</th>\n      <td>[morreu, rita, levintalcini, grande, dama, ciência, italiana, cientista, senadora, italiana, rita, levintalcini, prémio, nobel, medicina, morreu, ...</td>\n    </tr>\n    <tr>\n      <th>4</th>\n      <td>[trás, porta, amarela, homem, problemas, psicológicos, ninguém, sabe, fazer, ninguém, sabe, pensa, come, sobrevive, dois, anos, desde, mulher, pân...</td>\n    </tr>\n    <tr>\n      <th>5</th>\n      <td>[gregorio, duvivier, todas, maneiras, estilo, mês, gregorio, duvivier, portugal, escritor, humorista, actorsócio, fundador, colectivo, porta, fund...</td>\n    </tr>\n    <tr>\n      <th>6</th>\n      <td>[ângelo, sousa, viver, esperar, talvez, pintar, ângelo, nome, curioso, farta, esperar, procura, saber, conversa, porto, casa, tudo, parado, atelie...</td>\n    </tr>\n    <tr>\n      <th>7</th>\n      <td>[sintomas, esquizofrenia, fernando, rosas, zurze, ferreira, amaral, sintomas, esquizofrenia, porta, serviço, estrangeiros, fronteiras, lisboa, cen...</td>\n    </tr>\n    <tr>\n      <th>8</th>\n      <td>[esquizofrenia, depressão, esquizofrenia, depressão, longo, anos, existência, hospital, conde, ferreira, palco, mudanças, institucionais, acontece...</td>\n    </tr>\n  </tbody>\n</table>\n</div>"
     },
     "metadata": {},
     "execution_count": 8
    }
   ],
   "source": [
    "# Word tokenization\n",
    "\n",
    "def tokenize(text):\n",
    "\n",
    "    text = text.split()\n",
    "\n",
    "    return text\n",
    "\n",
    "data_tokenized = pd.DataFrame(data_clean.content.apply(lambda x: tokenize(x)))\n",
    "data_tokenized"
   ]
  },
  {
   "cell_type": "code",
   "execution_count": 9,
   "metadata": {},
   "outputs": [],
   "source": [
    "# Write to csv\n",
    "\n",
    "data_tokenized.to_csv(\"data_cleaned.csv\")"
   ]
  },
  {
   "cell_type": "code",
   "execution_count": 10,
   "metadata": {
    "tags": []
   },
   "outputs": [
    {
     "output_type": "stream",
     "name": "stdout",
     "text": [
      "[[0 0 0 ... 0 0 0]\n [0 0 0 ... 0 0 0]\n [0 0 0 ... 0 0 0]\n ...\n [0 1 0 ... 4 0 0]\n [0 0 0 ... 0 0 0]\n [0 0 0 ... 0 0 0]]\n"
     ]
    }
   ],
   "source": [
    "# Generate bag-of-words feature vectors\n",
    "\n",
    "vectorizer = CountVectorizer(lowercase=False)\n",
    "bag_of_words = vectorizer.fit_transform(data_clean['content'].values)\n",
    "\n",
    "#print(vectorizer.get_feature_names())\n",
    "print(bag_of_words.toarray())"
   ]
  },
  {
   "cell_type": "code",
   "execution_count": 11,
   "metadata": {},
   "outputs": [
    {
     "output_type": "stream",
     "name": "stdout",
     "text": [
      "[[0.         0.         0.         ... 0.         0.         0.        ]\n [0.         0.         0.         ... 0.         0.         0.        ]\n [0.         0.         0.         ... 0.         0.         0.        ]\n ...\n [0.         0.01064605 0.         ... 0.0359673  0.         0.        ]\n [0.         0.         0.         ... 0.         0.         0.        ]\n [0.         0.         0.         ... 0.         0.         0.        ]]\n"
     ]
    }
   ],
   "source": [
    "# Generate TF-IDF feature vectors\n",
    "\n",
    "tfidf_vectorizer = TfidfVectorizer()\n",
    "tfidf = tfidf_vectorizer.fit_transform(data_clean['content'].values)\n",
    "\n",
    "print(tfidf.toarray())"
   ]
  }
 ]
}
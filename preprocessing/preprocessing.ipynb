{
 "metadata": {
  "language_info": {
   "codemirror_mode": {
    "name": "ipython",
    "version": 3
   },
   "file_extension": ".py",
   "mimetype": "text/x-python",
   "name": "python",
   "nbconvert_exporter": "python",
   "pygments_lexer": "ipython3",
   "version": "3.9.7-final"
  },
  "orig_nbformat": 2,
  "kernelspec": {
   "name": "python3",
   "display_name": "Python 3 (ipykernel)",
   "language": "python"
  }
 },
 "nbformat": 4,
 "nbformat_minor": 2,
 "cells": [
  {
   "source": [
    "# 1. Preprocessing "
   ],
   "cell_type": "markdown",
   "metadata": {}
  },
  {
   "source": [
    "## 1.1 Requirements"
   ],
   "cell_type": "markdown",
   "metadata": {}
  },
  {
   "cell_type": "code",
   "execution_count": 2,
   "metadata": {},
   "outputs": [],
   "source": [
    "pip3 install pandas\n",
    "pip install --upgrade nltk\n",
    "pip instaç stanza"
   ]
  },
  {
   "source": [
    "## 1.2 Imports"
   ],
   "cell_type": "markdown",
   "metadata": {}
  },
  {
   "cell_type": "code",
   "execution_count": 1,
   "metadata": {},
   "outputs": [
    {
     "output_type": "stream",
     "name": "stderr",
     "text": [
      "[nltk_data] Downloading package stopwords to /home/alina/nltk_data...\n",
      "[nltk_data]   Package stopwords is already up-to-date!\n",
      "Downloading https://raw.githubusercontent.com/stanfordnlp/stanza-resources/main/resources_1.3.0.json: 142kB [00:00, 11.9MB/s]                    \n",
      "2022-03-01 17:17:45 INFO: Downloading default packages for language: pt (Portuguese)...\n",
      "2022-03-01 17:17:46 INFO: File exists: /home/alina/stanza_resources/pt/default.zip.\n",
      "2022-03-01 17:17:50 INFO: Finished downloading models and saved to /home/alina/stanza_resources.\n"
     ]
    }
   ],
   "source": [
    "import pandas as pd\n",
    "import re\n",
    "import string\n",
    "import nltk\n",
    "nltk.download('stopwords')\n",
    "#import stanza\n",
    "#stanza.download('pt')"
   ]
  },
  {
   "cell_type": "code",
   "execution_count": 2,
   "metadata": {},
   "outputs": [],
   "source": [
    "# Table only with news 'headline' and 'content'\n",
    "\n",
    "data = pd.read_csv ('data.csv')\n",
    "data_text = data.loc[:, ['headline', 'content']]"
   ]
  },
  {
   "cell_type": "code",
   "execution_count": 3,
   "metadata": {},
   "outputs": [
    {
     "output_type": "stream",
     "name": "stdout",
     "text": [
      "headline 11\ncontent 0\n"
     ]
    }
   ],
   "source": [
    "# Search for null values\n",
    "\n",
    "for col in data_text.columns:\n",
    "    print(col, data_text[col].isnull().sum())"
   ]
  },
  {
   "cell_type": "code",
   "execution_count": 4,
   "metadata": {},
   "outputs": [
    {
     "output_type": "execute_result",
     "data": {
      "text/plain": [
       "                                                                                                                                                   content\n",
       "0    Prisão perpétua para homem que tentou assassinar senadora No dia 8 de Janeiro de 2011 Jared Loughner tentou matar, sem sucesso, a então senadora G...\n",
       "1    John Nash, matemático de Uma Mente Brilhante, morre em acidente John Nash, o matemático e Nobel da Economia que foi retratado por Russell Crowe no...\n",
       "2    O mito da reeleição mínima garantida Cavaco sairá desta campanha pior do que entrou. Os casos das acções na SLN ou da casa de férias no Algarve nã...\n",
       "3    Morreu Rita Levi-Montalcini, a grande dama da ciência italiana A cientista e senadora italiana Rita Levi-Montalcini, Prémio Nobel da Medicina de 1...\n",
       "4    Por trás da porta amarela, há um homem com problemas psicológicos Pub  Ninguém sabe o que ele está a fazer. Ninguém sabe em que é que pensa, o que...\n",
       "..                                                                                                                                                     ...\n",
       "654  Ao terceiro dia Hendrix ressuscitou  Festival de Curtas Metragens recordou último concerto do guitarrista em Inglaterra Festival de Curtas Metrage...\n",
       "655  Capital acordou tarde e tensa  votação Jornada eleitoral decorreu com civismo e ansiedade Escaramuças fazem um morto e um ferido Jornada eleitoral...\n",
       "656   - out3022  Arguidos começam hoje a discutir as provas  casa pia Rui Teixeira abandona processo de pedofilia, que será sorteado a outro magistrado...\n",
       "657  \"Nunca me deixei ser empurrado\"  Alexandra Marques  Ciente de que só passará à segunda volta \"se uma grande parte do PS\" votar nele, diz que Sócra...\n",
       "658  Esquizofrénicos não têm apoios      O presidente do IV Colóquio Internacional de Esquizofrenia do Porto, João Marques Teixeira, defendeu, ontem, a...\n",
       "\n",
       "[659 rows x 1 columns]"
      ],
      "text/html": "<div>\n<style scoped>\n    .dataframe tbody tr th:only-of-type {\n        vertical-align: middle;\n    }\n\n    .dataframe tbody tr th {\n        vertical-align: top;\n    }\n\n    .dataframe thead th {\n        text-align: right;\n    }\n</style>\n<table border=\"1\" class=\"dataframe\">\n  <thead>\n    <tr style=\"text-align: right;\">\n      <th></th>\n      <th>content</th>\n    </tr>\n  </thead>\n  <tbody>\n    <tr>\n      <th>0</th>\n      <td>Prisão perpétua para homem que tentou assassinar senadora No dia 8 de Janeiro de 2011 Jared Loughner tentou matar, sem sucesso, a então senadora G...</td>\n    </tr>\n    <tr>\n      <th>1</th>\n      <td>John Nash, matemático de Uma Mente Brilhante, morre em acidente John Nash, o matemático e Nobel da Economia que foi retratado por Russell Crowe no...</td>\n    </tr>\n    <tr>\n      <th>2</th>\n      <td>O mito da reeleição mínima garantida Cavaco sairá desta campanha pior do que entrou. Os casos das acções na SLN ou da casa de férias no Algarve nã...</td>\n    </tr>\n    <tr>\n      <th>3</th>\n      <td>Morreu Rita Levi-Montalcini, a grande dama da ciência italiana A cientista e senadora italiana Rita Levi-Montalcini, Prémio Nobel da Medicina de 1...</td>\n    </tr>\n    <tr>\n      <th>4</th>\n      <td>Por trás da porta amarela, há um homem com problemas psicológicos Pub  Ninguém sabe o que ele está a fazer. Ninguém sabe em que é que pensa, o que...</td>\n    </tr>\n    <tr>\n      <th>...</th>\n      <td>...</td>\n    </tr>\n    <tr>\n      <th>654</th>\n      <td>Ao terceiro dia Hendrix ressuscitou  Festival de Curtas Metragens recordou último concerto do guitarrista em Inglaterra Festival de Curtas Metrage...</td>\n    </tr>\n    <tr>\n      <th>655</th>\n      <td>Capital acordou tarde e tensa  votação Jornada eleitoral decorreu com civismo e ansiedade Escaramuças fazem um morto e um ferido Jornada eleitoral...</td>\n    </tr>\n    <tr>\n      <th>656</th>\n      <td>- out3022  Arguidos começam hoje a discutir as provas  casa pia Rui Teixeira abandona processo de pedofilia, que será sorteado a outro magistrado...</td>\n    </tr>\n    <tr>\n      <th>657</th>\n      <td>\"Nunca me deixei ser empurrado\"  Alexandra Marques  Ciente de que só passará à segunda volta \"se uma grande parte do PS\" votar nele, diz que Sócra...</td>\n    </tr>\n    <tr>\n      <th>658</th>\n      <td>Esquizofrénicos não têm apoios      O presidente do IV Colóquio Internacional de Esquizofrenia do Porto, João Marques Teixeira, defendeu, ontem, a...</td>\n    </tr>\n  </tbody>\n</table>\n<p>659 rows × 1 columns</p>\n</div>"
     },
     "metadata": {},
     "execution_count": 4
    }
   ],
   "source": [
    "# Join 'headline' and 'content'\n",
    "\n",
    "for index, row in data_text.iterrows():\n",
    "    if isinstance(row['headline'], float): pass\n",
    "    else: \n",
    "        if row['headline'] not in row['content']: row['content'] = row['headline'] + ' ' + row['content']\n",
    "data_text.drop('headline', axis = 1, inplace = True)\n",
    "pd.set_option('max_colwidth',150)\n",
    "data_text"
   ]
  },
  {
   "cell_type": "code",
   "execution_count": 5,
   "metadata": {},
   "outputs": [
    {
     "output_type": "stream",
     "name": "stderr",
     "text": [
      "2022-03-01 17:17:57 INFO: Loading these models for language: pt (Portuguese):\n",
      "=======================\n",
      "| Processor | Package |\n",
      "-----------------------\n",
      "| tokenize  | bosque  |\n",
      "| mwt       | bosque  |\n",
      "| pos       | bosque  |\n",
      "| lemma     | bosque  |\n",
      "| depparse  | bosque  |\n",
      "=======================\n",
      "\n",
      "2022-03-01 17:17:57 INFO: Use device: cpu\n",
      "2022-03-01 17:17:57 INFO: Loading: tokenize\n",
      "2022-03-01 17:17:57 INFO: Loading: mwt\n",
      "2022-03-01 17:17:57 INFO: Loading: pos\n",
      "2022-03-01 17:17:57 INFO: Loading: lemma\n",
      "2022-03-01 17:17:57 INFO: Loading: depparse\n",
      "2022-03-01 17:17:57 INFO: Done loading processors!\n"
     ]
    }
   ],
   "source": [
    "# Cleaning\n",
    "\n",
    "irrelevant = [\"pub\", \"pág\", \"reportagem\", \"clique\", \"subscrever\", \"partilhar\", \"dn\", \"publico.pt\", \"rtp\", \"cartaz\", \"tv\", \"hoje\", \"amanhã\", \"ontem\", \"segundafeira\", \"terçafeira\", \"quartafeira\", \"quintafeira\", \"sextafeira\", \"sábado\", \"domingo\", \"janeiro\", \"fevereiro\", \"março\", \"abril\", \"maio\", \"junho\", \"julho\", \"agosto\", \"outubro\", \"novembro\", \"dezembro\"] # list with irrelevant words/expressions do the news content\n",
    "\n",
    "stopwords = nltk.corpus.stopwords.words('portuguese') # pt stopwords\n",
    "\n",
    "#nlp = stanza.Pipeline('pt') # pt stanza\n",
    "\n",
    "def clean_text(text):\n",
    "\n",
    "    text = text.lower() # lowercase\n",
    "    text = re.sub(r'http\\S+', '', text) # URLs removal\n",
    "    text = re.sub('\\[.*?\\]', '', text) # remove text in square brackets\n",
    "    text = re.sub(r\"\\([^()]*\\)\", '', text) # remove text within parentheses\n",
    "    text = re.sub(r'-(me|te|se|nos|vos|o|os|a|as|lo|los|la|las|lhe|lhes|lha|lhas|lho|lhos|no|na|nas|mo|ma|mos|mas|to|ta|tos|tas)', '', text) # remove pronouns at the end of the wo\n",
    "    text = re.sub('[%s]' % re.escape(string.punctuation), '', text) # remove punctuation\n",
    "    text = re.sub('[‘’“”«|»…]', '', text)\n",
    "    text = re.sub('\\w*\\d\\w*', '', text) # remove words containing numbers\n",
    "    text = ' '.join([word for word in text.split() if word not in stopwords]) # remove stopwords\n",
    "    text = re.sub(r'Pág.*por pág$', '', text) # remove irrelevant text\n",
    "    text = ' '.join([word for word in text.split() if word not in irrelevant]) \n",
    "    #text = nlp(text)\n",
    "    #text = ' '.join([word.lemma for sent in text.sentences for word in sent.words]) \n",
    "\n",
    "    return text"
   ]
  },
  {
   "cell_type": "code",
   "execution_count": 6,
   "metadata": {
    "tags": []
   },
   "outputs": [],
   "source": [
    "data_clean = pd.DataFrame(data_text.content.apply(lambda x: clean_text(x)))\n",
    "data_clean"
   ]
  },
  {
   "cell_type": "code",
   "execution_count": 19,
   "metadata": {},
   "outputs": [],
   "source": [
    "data_clean.to_csv()"
   ]
  },
  {
   "cell_type": "code",
   "execution_count": null,
   "metadata": {},
   "outputs": [],
   "source": []
  }
 ]
}
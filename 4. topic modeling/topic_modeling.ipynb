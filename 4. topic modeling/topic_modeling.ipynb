{
 "metadata": {
  "language_info": {
   "codemirror_mode": {
    "name": "ipython",
    "version": 3
   },
   "file_extension": ".py",
   "mimetype": "text/x-python",
   "name": "python",
   "nbconvert_exporter": "python",
   "pygments_lexer": "ipython3",
   "version": "3.9.7-final"
  },
  "orig_nbformat": 2,
  "kernelspec": {
   "name": "python3",
   "display_name": "Python 3.9.7 64-bit ('stigma': conda)",
   "metadata": {
    "interpreter": {
     "hash": "4bb6a5a8d9de86797f248650fa8544a019a00d157c3095d36faee5c402c003b5"
    }
   }
  }
 },
 "nbformat": 4,
 "nbformat_minor": 2,
 "cells": [
  {
   "source": [
    "### Table of contents:\n",
    "\n",
    "* [4. Topic modeling](#chapter4)\n",
    "    * [4.1 Requirements](#section_4_1)\n",
    "    * [4.2 Imports](#section_4_2)\n",
    "    * [4.3 Get data](#section_4_3)\n",
    "    * [4.4 With top2vec](#section_4_4)\n",
    "    * [4.5 With Latent Dirichlet Allocation (LDA)](#section_4_5)"
   ],
   "cell_type": "markdown",
   "metadata": {}
  },
  {
   "source": [
    "# 4. Topic modeling <a class=\"anchor\" id=\"chapter4\"></a>"
   ],
   "cell_type": "markdown",
   "metadata": {}
  },
  {
   "source": [
    "Topic modeling is a machine learning technique (unsupervised) that automatically analyzes text data to determine cluster words (mapped to topics) for a set of documents.\n",
    "\n",
    "Two algorithms were used:\n",
    "\n",
    "- Top2Vec is an algorithm for topic modeling and semantic search. It automatically detects topics present in text and generates jointly embedded topic, document and word vectors. Some benefits: automatically finds number of topics, works on short text, doesn't ingore semantics.\n",
    "- LDA groups texts based on the words they contain and the probability of a word belonging to a certain topic. The LDA algorithm outputs the topic word distribution. It's the most popular topic modeling algorithm but: needs pre-processing (maybe multiple rounds), needs to known the number of topics and ignores semantics.\n",
    "\n",
    "After some experiments, it was found that the top2vec algorithm works much better in this dataset. \n",
    "\n",
    "Note: execute with GPU.\n",
    "\n",
    "References: 1.https://github.com/ddangelov/Top2Vec 2. https://radimrehurek.com/gensim/models/ldamulticore.html"
   ],
   "cell_type": "markdown",
   "metadata": {}
  },
  {
   "source": [
    "## 4.1 Requirements <a class=\"anchor\" id=\"section_4_1\"></a>"
   ],
   "cell_type": "markdown",
   "metadata": {}
  },
  {
   "cell_type": "code",
   "execution_count": null,
   "metadata": {},
   "outputs": [],
   "source": [
    "pip install gensim==3.8.3"
   ]
  },
  {
   "cell_type": "code",
   "execution_count": null,
   "metadata": {},
   "outputs": [],
   "source": [
    "pip install top2vec"
   ]
  },
  {
   "cell_type": "code",
   "execution_count": 3,
   "metadata": {},
   "outputs": [],
   "source": [
    "#pip install pyLDAvis"
   ]
  },
  {
   "source": [
    "## 4.2 Imports <a class=\"anchor\" id=\"section_4_2\"></a>"
   ],
   "cell_type": "markdown",
   "metadata": {}
  },
  {
   "cell_type": "code",
   "execution_count": 1,
   "metadata": {},
   "outputs": [
    {
     "output_type": "stream",
     "name": "stderr",
     "text": [
      "/home/alina/anaconda3/envs/stigma/lib/python3.9/site-packages/matplotlib_inline/config.py:66: DeprecationWarning: InlineBackend._figure_formats_changed is deprecated in traitlets 4.1: use @observe and @unobserve instead.\n  def _figure_formats_changed(self, name, old, new):\n"
     ]
    }
   ],
   "source": [
    "import numpy as np\n",
    "import pandas as pd\n",
    "\n",
    "from top2vec import Top2Vec\n",
    "\n",
    "#import gensim.corpora as corpora\n",
    "#from gensim.models import CoherenceModel\n",
    "#from gensim.models.ldamulticore import LdaMulticore\n",
    "#import pyLDAvis\n",
    "#import pyLDAvis.gensim_models\n",
    "#import matplotlib.pyplot as plt\n",
    "#import matplotlib.colors as mcolors\n",
    "#%matplotlib inline\n",
    "#from wordcloud import WordCloud"
   ]
  },
  {
   "source": [
    "## 4.3 Get data <a class=\"anchor\" id=\"section_4_3\"></a>"
   ],
   "cell_type": "markdown",
   "metadata": {}
  },
  {
   "cell_type": "code",
   "execution_count": 3,
   "metadata": {},
   "outputs": [
    {
     "output_type": "stream",
     "name": "stderr",
     "text": [
      "2022-04-03 15:11:50.184689: W tensorflow/stream_executor/platform/default/dso_loader.cc:64] Could not load dynamic library 'libcudart.so.11.0'; dlerror: libcudart.so.11.0: cannot open shared object file: No such file or directory\n2022-04-03 15:11:50.184729: I tensorflow/stream_executor/cuda/cudart_stub.cc:29] Ignore above cudart dlerror if you do not have a GPU set up on your machine.\n"
     ]
    }
   ],
   "source": [
    "# top2vec doesn't need pre-processing, but we will still use the already cleaned dataset\n",
    "\n",
    "data = pd.read_pickle('data_preprocessed_tm.pkl')\n",
    "data.head()"
   ]
  },
  {
   "cell_type": "code",
   "execution_count": null,
   "metadata": {},
   "outputs": [],
   "source": [
    "# Create mapping index-document ID\n",
    "\n",
    "ids = {}\n",
    "for index in data.index:\n",
    "  ids[index] = data.iloc[index].ID"
   ]
  },
  {
   "cell_type": "code",
   "execution_count": 4,
   "metadata": {},
   "outputs": [
    {
     "output_type": "execute_result",
     "data": {
      "text/plain": [
       "   label                                            content\n",
       "0      0  prisão perpétua homem tentou assassinar senado...\n",
       "1      0  john nash matemático mente brilhante morre aci...\n",
       "2      1  mito reeleição mínima garantida cavaco sairá d...\n",
       "3      0  morreu rita levintalcini grande dama ciência i...\n",
       "4      0  trás porta amarela homem problemas psicológico..."
      ],
      "text/html": "<div>\n<style scoped>\n    .dataframe tbody tr th:only-of-type {\n        vertical-align: middle;\n    }\n\n    .dataframe tbody tr th {\n        vertical-align: top;\n    }\n\n    .dataframe thead th {\n        text-align: right;\n    }\n</style>\n<table border=\"1\" class=\"dataframe\">\n  <thead>\n    <tr style=\"text-align: right;\">\n      <th></th>\n      <th>label</th>\n      <th>content</th>\n    </tr>\n  </thead>\n  <tbody>\n    <tr>\n      <th>0</th>\n      <td>0</td>\n      <td>prisão perpétua homem tentou assassinar senado...</td>\n    </tr>\n    <tr>\n      <th>1</th>\n      <td>0</td>\n      <td>john nash matemático mente brilhante morre aci...</td>\n    </tr>\n    <tr>\n      <th>2</th>\n      <td>1</td>\n      <td>mito reeleição mínima garantida cavaco sairá d...</td>\n    </tr>\n    <tr>\n      <th>3</th>\n      <td>0</td>\n      <td>morreu rita levintalcini grande dama ciência i...</td>\n    </tr>\n    <tr>\n      <th>4</th>\n      <td>0</td>\n      <td>trás porta amarela homem problemas psicológico...</td>\n    </tr>\n  </tbody>\n</table>\n</div>"
     },
     "metadata": {},
     "execution_count": 4
    }
   ],
   "source": [
    "content = data.loc[:,'content']\n",
    "content.head()"
   ]
  },
  {
   "source": [
    "## 4.4 With top2vec <a class=\"anchor\" id=\"section_4_4\"></a>"
   ],
   "cell_type": "markdown",
   "metadata": {}
  },
  {
   "cell_type": "code",
   "execution_count": null,
   "metadata": {},
   "outputs": [],
   "source": [
    "# Convert dataset to list of strings\n",
    "\n",
    "documents = list(content.values.flatten())"
   ]
  },
  {
   "cell_type": "code",
   "execution_count": null,
   "metadata": {},
   "outputs": [],
   "source": [
    "# Train a Top2Vec model on our news dataset\n",
    "\n",
    "model = Top2Vec(documents, speed=\"learn\", workers=8)"
   ]
  },
  {
   "cell_type": "code",
   "execution_count": null,
   "metadata": {},
   "outputs": [],
   "source": [
    "# Total number of topics found\n",
    "\n",
    "total_topics = model.get_num_topics()\n",
    "\n",
    "print(\"Found: \"+str(total_topics)+\" topics.\")"
   ]
  },
  {
   "cell_type": "code",
   "execution_count": null,
   "metadata": {},
   "outputs": [],
   "source": [
    "# For each topic, the top 50 words are returned, in order of semantic similarity to the topic\n",
    "\n",
    "topic_words, word_scores, topic_nums = model.get_topics(total_topics)"
   ]
  },
  {
   "cell_type": "code",
   "execution_count": null,
   "metadata": {},
   "outputs": [],
   "source": [
    "# Wordcloud for each topic\n",
    "\n",
    "for topic in topic_nums:\n",
    "    model.generate_topic_wordcloud(topic)"
   ]
  },
  {
   "cell_type": "code",
   "execution_count": null,
   "metadata": {},
   "outputs": [],
   "source": [
    "# Search documents by topic. Ordered by (decreasing) similarity.\n",
    "\n",
    "documents, document_scores, document_indexes = model.search_documents_by_topic(topic_num=0, num_docs=10)\n",
    "\n",
    "document_ids = []\n",
    "for index in document_indexes:\n",
    "  document_ids.append(ids.get(index))\n",
    "\n",
    "document_ids"
   ]
  },
  {
   "source": [
    "## 4.5 With Latent Dirichlet Allocation (LDA) <a class=\"anchor\" id=\"section_4_5\"></a>"
   ],
   "cell_type": "markdown",
   "metadata": {}
  },
  {
   "cell_type": "code",
   "execution_count": 5,
   "metadata": {},
   "outputs": [],
   "source": [
    "# Generate document-terms matrix\n",
    "\n",
    "#content_words = [doc.split() for doc in content]\n",
    "\n",
    "#dictionary = corpora.Dictionary(content_words)\n",
    "\n",
    "#doc_term_matrix = [dictionary.doc2bow(text) for text in content_words]"
   ]
  },
  {
   "cell_type": "code",
   "execution_count": 6,
   "metadata": {},
   "outputs": [],
   "source": [
    "# Create model, with 6 topics to be found\n",
    "\n",
    "#lda_model = LdaMulticore(corpus=doc_term_matrix, id2word=dictionary, num_topics=6, random_state=42)\n",
    "\n",
    "#print('\\nPerplexity: ', lda_model.log_perplexity(doc_term_matrix))\n",
    "\n",
    "#coherence_model_lda = CoherenceModel(model=lda_model, texts=content_words, dictionary=dictionary, coherence='c_v')\n",
    "#coherence_lda = coherence_model_lda.get_coherence()\n",
    "#print('\\nCoherence: ', coherence_lda)"
   ]
  },
  {
   "cell_type": "code",
   "execution_count": 7,
   "metadata": {},
   "outputs": [],
   "source": [
    "# Visualize topics found\n",
    "\n",
    "#pyLDAvis.enable_notebook()\n",
    "#vis = pyLDAvis.gensim_models.prepare(lda_model, doc_term_matrix, dictionary)\n",
    "#vis\n",
    "\n",
    "#print(lda_model.print_topics())"
   ]
  }
 ]
}